{
  "nbformat": 4,
  "nbformat_minor": 0,
  "metadata": {
    "colab": {
      "provenance": [],
      "gpuType": "T4"
    },
    "kernelspec": {
      "name": "python3",
      "display_name": "Python 3"
    },
    "language_info": {
      "name": "python"
    },
    "accelerator": "GPU"
  },
  "cells": [
    {
      "cell_type": "code",
      "execution_count": 1,
      "metadata": {
        "id": "bK7bePqyJNoB"
      },
      "outputs": [],
      "source": [
        "# code all of the components of a simple CNN for image recognition on CIFAR\n",
        "# import everything (recommendation)\n",
        "import torch\n",
        "import torchvision\n",
        "import torchvision.transforms as transforms"
      ]
    },
    {
      "cell_type": "markdown",
      "source": [
        "Preparing data"
      ],
      "metadata": {
        "id": "SrD3Til7OIy5"
      }
    },
    {
      "cell_type": "code",
      "source": [
        "# data preprocessing and processing\n",
        "transform = transforms.Compose(\n",
        "    [transforms.ToTensor(),\n",
        "     transforms.Normalize((0.5, 0.5, 0.5), (0.5, 0.5, 0.5))])\n",
        "\n",
        "\n",
        "# number of images/iter, computational cost (VRAM & GPU utilization)\n",
        "# GPUs make better use of parallelization (processing multiple images faster\n",
        "# than processing images sequentially 1 by 1)\n",
        "# throughput (how many images can we process in a second: 0.5 imgs / s)\n",
        "# latency (how many seconds does it take to process an image: 2 s / img)\n",
        "batch_size = 4\n",
        "\n",
        "\n",
        "trainset = torchvision.datasets.CIFAR10(root='./data/', train=True,\n",
        "                                        download=True, transform=transform)\n",
        "\n",
        "# returns at each iteration: batch_size, number_channels, image_width, image_height\n",
        "# cpu processing (parallel)\n",
        "trainloader = torch.utils.data.DataLoader(trainset, batch_size=batch_size,\n",
        "                                          shuffle=True, num_workers=1)\n",
        "\n",
        "\n",
        "testset = torchvision.datasets.CIFAR10(root='./data/', train=False,\n",
        "                                       download=True, transform=transform)\n",
        "testloader = torch.utils.data.DataLoader(testset, batch_size=batch_size,\n",
        "                                         shuffle=False, num_workers=1)"
      ],
      "metadata": {
        "colab": {
          "base_uri": "https://localhost:8080/"
        },
        "id": "YJWN4L-0L7s2",
        "outputId": "ea35a025-10ba-4dcd-82dc-ce59d6a2a324"
      },
      "execution_count": 2,
      "outputs": [
        {
          "output_type": "stream",
          "name": "stderr",
          "text": [
            "100%|██████████| 170M/170M [00:05<00:00, 34.1MB/s]\n"
          ]
        }
      ]
    },
    {
      "cell_type": "markdown",
      "source": [
        "Visualizing data"
      ],
      "metadata": {
        "id": "WFppDCQLOMo2"
      }
    },
    {
      "cell_type": "code",
      "source": [
        "import matplotlib.pyplot as plt\n",
        "import numpy as np\n",
        "\n",
        "# functions to show an image\n",
        "\n",
        "def imshow(img):\n",
        "    img = img / 2 + 0.5     # unnormalize\n",
        "    npimg = img.numpy()\n",
        "    plt.imshow(np.transpose(npimg, (1, 2, 0)))\n",
        "    plt.show()\n",
        "\n",
        "\n",
        "# classes names\n",
        "classes = ('plane', 'car', 'bird', 'cat',\n",
        "           'deer', 'dog', 'frog', 'horse', 'ship', 'truck')\n",
        "\n",
        "\n",
        "# get some random training images\n",
        "dataiter = iter(trainloader)\n",
        "images, labels = next(dataiter)\n",
        "\n",
        "\n",
        "# show images\n",
        "imshow(torchvision.utils.make_grid(images))\n",
        "# print labels\n",
        "print(' '.join(f'{classes[labels[j]]:5s}' for j in range(batch_size)))"
      ],
      "metadata": {
        "colab": {
          "base_uri": "https://localhost:8080/",
          "height": 210
        },
        "id": "e1yHHWA3L8Kd",
        "outputId": "61c4b719-d84c-437b-80d2-2a814f2bf3c4"
      },
      "execution_count": 3,
      "outputs": [
        {
          "output_type": "display_data",
          "data": {
            "text/plain": [
              "<Figure size 640x480 with 1 Axes>"
            ],
            "image/png": "[encoded data removed]"
          },
          "metadata": {}
        },
        {
          "output_type": "stream",
          "name": "stdout",
          "text": [
            "plane bird  truck car  \n"
          ]
        }
      ]
    },
    {
      "cell_type": "markdown",
      "source": [
        "Setting up model"
      ],
      "metadata": {
        "id": "Uu78p6oSOPKG"
      }
    },
    {
      "cell_type": "code",
      "source": [
        "import torch.nn as nn\n",
        "import torch.nn.functional as F\n",
        "\n",
        "# lenet (1989 yann lecun)\n",
        "# autograd functionality\n",
        "# deep learning: tensorflow, pytorch\n",
        "# sigmoid: 1 / e^-x\n",
        "# backprop: x * 1/e^-x\n",
        "# backward()\n",
        "\n",
        "class Net(nn.Module):\n",
        "    def __init__(self):\n",
        "        super().__init__()\n",
        "        # number_input_channels, # number_output_channels, kernel_size\n",
        "        self.conv1 = nn.Conv2d(3, 6, 5)\n",
        "        # kernel_size, stride\n",
        "        self.pool = nn.MaxPool2d(2, 2)\n",
        "        self.conv2 = nn.Conv2d(6, 16, 5)\n",
        "        self.fc1 = nn.Linear(16 * 5 * 5, 120)\n",
        "        self.fc2 = nn.Linear(120, 84)\n",
        "        self.fc3 = nn.Linear(84, 10)\n",
        "\n",
        "    def forward(self, x):\n",
        "        x = self.pool(F.relu(self.conv1(x)))\n",
        "        x = self.pool(F.relu(self.conv2(x)))\n",
        "        # b, num_channels, h, w -> b, (num_channels x h x w)\n",
        "        x = torch.flatten(x, 1) # flatten all dimensions except batch\n",
        "        x = F.relu(self.fc1(x))\n",
        "        x = F.relu(self.fc2(x))\n",
        "        x = self.fc3(x)\n",
        "        return x\n",
        "\n",
        "device = torch.device('cuda:0' if torch.cuda.is_available() else 'cpu')\n",
        "\n",
        "# Assuming that we are on a CUDA machine, this should print a CUDA device:\n",
        "\n",
        "print(device)\n",
        "\n",
        "net = Net()\n",
        "net = net.to(device)\n"
      ],
      "metadata": {
        "colab": {
          "base_uri": "https://localhost:8080/"
        },
        "id": "KBhWQnF2NN4l",
        "outputId": "3f8e152b-f6e3-4369-f2a5-516c768c9358"
      },
      "execution_count": 4,
      "outputs": [
        {
          "output_type": "stream",
          "name": "stdout",
          "text": [
            "cuda:0\n"
          ]
        }
      ]
    },
    {
      "cell_type": "markdown",
      "source": [
        "Set up cost function and optimizer"
      ],
      "metadata": {
        "id": "8c3KDwJQOT14"
      }
    },
    {
      "cell_type": "code",
      "source": [
        "import torch.optim as optim\n",
        "\n",
        "\n",
        "# computing the difference between the ground truth label (car, 1 0 0) and the prediction (plane, 0.1 0.3. 0.6)\n",
        "criterion = nn.CrossEntropyLoss()\n",
        "\n",
        "\n",
        "# taking care of this changing in the parameters P_t-1 -optimizer -> P_t\n",
        "# P_t = P_t-1 + weight*gradient (how wrong the prediction is)\n",
        "# move the parameters of the neural network to a local optimum\n",
        "optimizer = optim.SGD(net.parameters(), lr=0.001, momentum=0.9)\n"
      ],
      "metadata": {
        "id": "TylCGM6yN8xF"
      },
      "execution_count": 5,
      "outputs": []
    },
    {
      "cell_type": "markdown",
      "source": [
        "Train loop"
      ],
      "metadata": {
        "id": "0-Zh0ilSOZRS"
      }
    },
    {
      "cell_type": "code",
      "source": [
        "# epoch is going through over all of the items in the dataset\n",
        "# cifar10: 50k images, bs=4, 50000/4 = 12500 (iterations / epoch)\n",
        "# decide the number of epochs: the number of images that we will see is epochs * number_images_train_ds\n",
        "# with cifar 2 epochs: 100k images (network has seen)\n",
        "# decide the number of steps: bs*1000 = 4*1000 = 4000\n",
        "# another dataset: 10k images * 2 epochs = 20k images (network has seen)\n",
        "# 4 * n_iters = 100000 -> n_iters = 100000 / 4 = 25000 iterations\n",
        "epochs = 2\n",
        "for epoch in range(epochs):  # loop over the dataset multiple times\n",
        "\n",
        "\n",
        "    running_loss = 0.0\n",
        "    for i, data in enumerate(trainloader):\n",
        "    # i: [0, number_items_iterable] 50k / 4 -> 12500\n",
        "    # for data in trainloader:\n",
        "        # get the inputs; data is a list of [inputs, labels]\n",
        "        # labels: [0, number_classes]\n",
        "        # images: b, c, h, w pytorch tensors\n",
        "        # labels: b, pytorch tensors\n",
        "        # trainloader: c, h, w -> b, c, h, w\n",
        "        inputs, labels = data\n",
        "        inputs, labels = inputs.to(device), labels.to(device)\n",
        "\n",
        "\n",
        "        # zero the parameter gradients\n",
        "        optimizer.zero_grad()\n",
        "\n",
        "\n",
        "        # forward pass\n",
        "        outputs = net(inputs)\n",
        "\n",
        "        # compute cost function\n",
        "        loss = criterion(outputs, labels)\n",
        "\n",
        "\n",
        "        # computes gradients in a backpropagation (backward pass)\n",
        "        loss.backward()\n",
        "        # updating the parameters with respect to the previous timesteps and the gradients\n",
        "        optimizer.step()\n",
        "\n",
        "\n",
        "        # print statistics\n",
        "        running_loss += loss.item()\n",
        "        if i % 2000 == 1999:    # print every 2000 mini-batches\n",
        "            print(f'[{epoch + 1}, {i + 1:5d}] loss: {running_loss / 2000:.3f}')\n",
        "            running_loss = 0.0\n",
        "\n",
        "\n",
        "print('Finished Training')"
      ],
      "metadata": {
        "colab": {
          "base_uri": "https://localhost:8080/"
        },
        "id": "NGrHJ7eCOBhy",
        "outputId": "ba30e5a1-6f77-48b1-e0e7-e2452baaee99"
      },
      "execution_count": 6,
      "outputs": [
        {
          "output_type": "stream",
          "name": "stdout",
          "text": [
            "[1,  2000] loss: 2.214\n",
            "[1,  4000] loss: 1.899\n",
            "[1,  6000] loss: 1.706\n",
            "[1,  8000] loss: 1.610\n",
            "[1, 10000] loss: 1.518\n",
            "[1, 12000] loss: 1.469\n",
            "[2,  2000] loss: 1.416\n",
            "[2,  4000] loss: 1.380\n",
            "[2,  6000] loss: 1.359\n",
            "[2,  8000] loss: 1.342\n",
            "[2, 10000] loss: 1.308\n",
            "[2, 12000] loss: 1.306\n",
            "Finished Training\n"
          ]
        }
      ]
    },
    {
      "cell_type": "markdown",
      "source": [
        "Save results"
      ],
      "metadata": {
        "id": "6s_h3Zl7ObnA"
      }
    },
    {
      "cell_type": "code",
      "source": [
        "# save results: trained model checkpoint\n",
        "PATH = './cifar_net.pth'\n",
        "torch.save(net.state_dict(), PATH)"
      ],
      "metadata": {
        "id": "eocFiSnOOf84"
      },
      "execution_count": 7,
      "outputs": []
    },
    {
      "cell_type": "markdown",
      "source": [
        "Visualize test data"
      ],
      "metadata": {
        "id": "_xJljq5YOgzU"
      }
    },
    {
      "cell_type": "code",
      "source": [
        "# load test data\n",
        "dataiter = iter(testloader)\n",
        "images, labels = next(dataiter)\n",
        "\n",
        "\n",
        "# print images\n",
        "imshow(torchvision.utils.make_grid(images))\n",
        "print('GroundTruth: ', ' '.join(f'{classes[labels[j]]:5s}' for j in range(4)))\n",
        "\n"
      ],
      "metadata": {
        "colab": {
          "base_uri": "https://localhost:8080/",
          "height": 210
        },
        "id": "PiqU0eX4OhMx",
        "outputId": "da5ec3f5-bb86-49b1-c366-5e8a99f72e60"
      },
      "execution_count": 8,
      "outputs": [
        {
          "output_type": "display_data",
          "data": {
            "text/plain": [
              "<Figure size 640x480 with 1 Axes>"
            ],
            "image/png": "[encoded data removed]"
          },
          "metadata": {}
        },
        {
          "output_type": "stream",
          "name": "stdout",
          "text": [
            "GroundTruth:  cat   ship  ship  plane\n"
          ]
        }
      ]
    },
    {
      "cell_type": "markdown",
      "source": [
        "Make predictions"
      ],
      "metadata": {
        "id": "ppnrTYchOv6a"
      }
    },
    {
      "cell_type": "code",
      "source": [
        "# forward test images through model\n",
        "outputs = net(images.to(device))\n",
        "\n",
        "# get top-1 prediction\n",
        "_, predicted = torch.max(outputs, 1)\n",
        "\n",
        "# print inference results\n",
        "print('Predicted: ', ' '.join(f'{classes[predicted[j]]:5s}'\n",
        "                              for j in range(4)))"
      ],
      "metadata": {
        "colab": {
          "base_uri": "https://localhost:8080/"
        },
        "id": "R8l3md9vOwJj",
        "outputId": "5b9c4e2f-68a9-43e9-ff80-d2becf1ef886"
      },
      "execution_count": 9,
      "outputs": [
        {
          "output_type": "stream",
          "name": "stdout",
          "text": [
            "Predicted:  cat   plane ship  plane\n"
          ]
        }
      ]
    },
    {
      "cell_type": "markdown",
      "source": [
        "Evaluate on new data"
      ],
      "metadata": {
        "id": "9LoSn4M3O2ka"
      }
    },
    {
      "cell_type": "code",
      "source": [
        "# evaluation / test loop\n",
        "correct = 0\n",
        "total = 0\n",
        "# since we're not training, we don't need to calculate the gradients for our outputs\n",
        "with torch.no_grad():\n",
        "    for data in testloader:\n",
        "        images, labels = data\n",
        "        images, labels = images.to(device), labels.to(device)\n",
        "        # calculate outputs by running images through the network\n",
        "        outputs = net(images)\n",
        "        # the class with the highest probability is what we choose as prediction\n",
        "        # plane, car, dog\n",
        "        # ground truth was 0, 0\n",
        "        # prediction (0.1 0.3 0.6) (0.5 0.3 0.2) -> 2, 0 -> 50% (correct = 1)\n",
        "        _, predicted = torch.max(outputs.data, 1)\n",
        "        total += labels.size(0)\n",
        "        correct += (predicted == labels).sum().item()\n",
        "\n",
        "print(f'Accuracy of the network on the 10000 test images: {100 * correct // total} %')\n"
      ],
      "metadata": {
        "colab": {
          "base_uri": "https://localhost:8080/"
        },
        "id": "d1WQBe6dO1u7",
        "outputId": "b62629ee-7097-4c19-f50d-82c4b25496f9"
      },
      "execution_count": 10,
      "outputs": [
        {
          "output_type": "stream",
          "name": "stdout",
          "text": [
            "Accuracy of the network on the 10000 test images: 54 %\n"
          ]
        }
      ]
    }
  ]
}